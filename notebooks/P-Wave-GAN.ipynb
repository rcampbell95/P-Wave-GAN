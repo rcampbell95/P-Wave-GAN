{
 "cells": [
  {
   "cell_type": "code",
   "execution_count": 11,
   "metadata": {},
   "outputs": [],
   "source": [
    "%matplotlib inline\n",
    "\n",
    "import numpy as nps\n",
    "import torch\n",
    "import matplotlib.pyplot as plt"
   ]
  },
  {
   "cell_type": "code",
   "execution_count": 30,
   "metadata": {},
   "outputs": [],
   "source": [
    "import torch.nn as nn\n",
    "import torch.nn.functional as F\n",
    "\n",
    "\n",
    "class Discriminator(nn.Module):\n",
    "    def __init__(self):\n",
    "        super().__init__()\n",
    "        \n",
    "        # Convolution layers\n",
    "        self.conv1 = nn.Conv1d(in_channels=1, out_channels=16, kernel_size=3, stride=2)\n",
    "        self.conv2 = nn.Conv1d(in_channels=16, out_channels=16, kernel_size=3, stride=2)\n",
    "        # Fully connected layer\n",
    "        self.fc1 = nn.Linear(16 * 37, 128)\n",
    "        # Output layer\n",
    "        self.out = nn.Linear(128, 1)\n",
    "        \n",
    "        self.avgpool = nn.AvgPool1d(kernel_size=2, stride=2)\n",
    "        # Dropout for training. Set model to evaluation mode to turn off. \n",
    "        self.dropout = nn.Dropout(p=0.2)\n",
    "        \n",
    "    def forward(self, x):\n",
    "        # Input size has three dimensions - [batch_size, channels, time]\n",
    "        x = x.view(x.shape[0], 1, -1)\n",
    "        x = self.conv1(x)\n",
    "        x = self.avgpool(x)\n",
    "        x = self.conv2(x)\n",
    "        x = self.avgpool(x)\n",
    "        # Reshape (flatten) tensor to pass through fully \n",
    "        # connected layer\n",
    "        x = x.view(x.shape[0], -1)\n",
    "        \n",
    "        x = self.dropout(F.relu(self.fc1(x)))\n",
    "        x = torch.sigmoid(self.out(x))\n",
    "        \n",
    "        return x\n",
    "        "
   ]
  },
  {
   "cell_type": "code",
   "execution_count": 31,
   "metadata": {},
   "outputs": [],
   "source": [
    "# Generate random data\n",
    "data = torch.randn(32, 600)"
   ]
  },
  {
   "cell_type": "code",
   "execution_count": 32,
   "metadata": {},
   "outputs": [],
   "source": [
    "model = Discriminator()"
   ]
  },
  {
   "cell_type": "code",
   "execution_count": 34,
   "metadata": {},
   "outputs": [
    {
     "data": {
      "text/plain": [
       "tensor([[0.5043],\n",
       "        [0.5017],\n",
       "        [0.5140],\n",
       "        [0.4989],\n",
       "        [0.5160],\n",
       "        [0.4884],\n",
       "        [0.4968],\n",
       "        [0.4963],\n",
       "        [0.5006],\n",
       "        [0.4791],\n",
       "        [0.5189],\n",
       "        [0.4934],\n",
       "        [0.5295],\n",
       "        [0.5114],\n",
       "        [0.4900],\n",
       "        [0.5022],\n",
       "        [0.5178],\n",
       "        [0.4944],\n",
       "        [0.5108],\n",
       "        [0.5096],\n",
       "        [0.5056],\n",
       "        [0.5095],\n",
       "        [0.5025],\n",
       "        [0.5137],\n",
       "        [0.4936],\n",
       "        [0.4884],\n",
       "        [0.5030],\n",
       "        [0.5243],\n",
       "        [0.5028],\n",
       "        [0.4718],\n",
       "        [0.5027],\n",
       "        [0.5140]], grad_fn=<SigmoidBackward>)"
      ]
     },
     "execution_count": 34,
     "metadata": {},
     "output_type": "execute_result"
    }
   ],
   "source": [
    "# Set model to evaluation mode and forward data through model\n",
    "model.eval()\n",
    "model.forward(data)"
   ]
  }
 ],
 "metadata": {
  "kernelspec": {
   "display_name": "Python 3",
   "language": "python",
   "name": "python3"
  },
  "language_info": {
   "codemirror_mode": {
    "name": "ipython",
    "version": 3
   },
   "file_extension": ".py",
   "mimetype": "text/x-python",
   "name": "python",
   "nbconvert_exporter": "python",
   "pygments_lexer": "ipython3",
   "version": "3.7.1"
  }
 },
 "nbformat": 4,
 "nbformat_minor": 2
}
